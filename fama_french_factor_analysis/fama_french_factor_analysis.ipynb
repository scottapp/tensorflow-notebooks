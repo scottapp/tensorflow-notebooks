{
 "cells": [
  {
   "cell_type": "markdown",
   "id": "6fcf5c0f",
   "metadata": {
    "pycharm": {
     "name": "#%% md\n"
    }
   },
   "source": [
    "## Fama French 3 Factor Model"
   ]
  },
  {
   "cell_type": "code",
   "execution_count": 2,
   "id": "63dca3da",
   "metadata": {
    "pycharm": {
     "name": "#%%\n"
    }
   },
   "outputs": [],
   "source": [
    "import sys\n",
    "sys.path = ['/app/src'] + sys.path\n",
    "\n",
    "import io\n",
    "# Pandas to read csv file and other things\n",
    "import pandas as pd\n",
    "# Datareader to download price data from Yahoo Finance\n",
    "import pandas_datareader as webe\n",
    "# Statsmodels to run our multiple regression model\n",
    "import statsmodels.api as smf\n",
    "# To download the Fama French data from the web\n",
    "import urllib.request\n",
    "# To unzip the ZipFile \n",
    "import zipfile\n",
    "import utils"
   ]
  },
  {
   "cell_type": "code",
   "execution_count": 3,
   "id": "3acf3b1a",
   "metadata": {},
   "outputs": [],
   "source": [
    "def get_fama_french():\n",
    "    url = \"https://mba.tuck.dartmouth.edu/pages/faculty/ken.french/ftp/F-F_Research_Data_Factors_CSV.zip\"\n",
    "    urllib.request.urlretrieve(url, 'fama_french.zip')\n",
    "    zip_file = zipfile.ZipFile('fama_french.zip', 'r')\n",
    "    zip_file.extractall()\n",
    "    zip_file.close()\n",
    "    \n",
    "    ff_factors = pd.read_csv('F-F_Research_Data_Factors.csv', skiprows = 3, index_col = 0)\n",
    "    ff_row = ff_factors.isnull().any(1).to_numpy().nonzero()[0][0]\n",
    "    \n",
    "    ff_factors = pd.read_csv('F-F_Research_Data_Factors.csv', skiprows = 3, nrows = ff_row, index_col = 0)\n",
    "    \n",
    "    ff_factors.index = pd.to_datetime(ff_factors.index, format= '%Y%m')\n",
    "    \n",
    "    ff_factors.index = ff_factors.index + pd.offsets.MonthEnd()\n",
    "    \n",
    "    ff_factors = ff_factors.apply(lambda x: x/ 100)\n",
    "    return ff_factors"
   ]
  },
  {
   "cell_type": "markdown",
   "id": "9fb754d2",
   "metadata": {},
   "source": [
    "## Load Fama French Data\n",
    "\n",
    "First we need to download the latest factor data from the following url:\n",
    "\n",
    "https://mba.tuck.dartmouth.edu/pages/faculty/ken.french/ftp/F-F_Research_Data_Factors_CSV.zip\n",
    "\n",
    "Download and unzip the csv file in the current directory, then we will convert the csv data into a pandas dataframe that we can use later.  The columns in the data file represent the Mkt excess, SMB, HML factors from which we will perform regression against with later. \n"
   ]
  },
  {
   "cell_type": "code",
   "execution_count": 7,
   "id": "8214d81c",
   "metadata": {},
   "outputs": [
    {
     "name": "stdout",
     "output_type": "stream",
     "text": [
      "            Mkt-RF     SMB     HML      RF\n",
      "2021-10-31  0.0665 -0.0228 -0.0044  0.0000\n",
      "2021-11-30 -0.0155 -0.0135 -0.0053  0.0000\n",
      "2021-12-31  0.0310 -0.0157  0.0323  0.0001\n",
      "2022-01-31 -0.0624 -0.0587  0.1279  0.0000\n",
      "2022-02-28 -0.0229  0.0219  0.0312  0.0000\n"
     ]
    }
   ],
   "source": [
    "ff_data = get_fama_french()\n",
    "print(ff_data.tail())"
   ]
  },
  {
   "cell_type": "markdown",
   "id": "a02c995e",
   "metadata": {
    "pycharm": {
     "name": "#%% md\n"
    }
   },
   "source": [
    "another way of parse the factor data file"
   ]
  },
  {
   "cell_type": "code",
   "execution_count": 6,
   "id": "c5a4fc00",
   "metadata": {},
   "outputs": [
    {
     "name": "stdout",
     "output_type": "stream",
     "text": [
      "            Mkt-RF     SMB     HML      RF\n",
      "Date                                      \n",
      "2021-09-30 -0.0437  0.0080  0.0509  0.0000\n",
      "2021-10-31  0.0665 -0.0228 -0.0044  0.0000\n",
      "2021-11-30 -0.0155 -0.0135 -0.0053  0.0000\n",
      "2021-12-31  0.0310 -0.0157  0.0323  0.0001\n",
      "2022-01-31 -0.0623 -0.0588  0.1278  0.0000\n"
     ]
    }
   ],
   "source": [
    "def load_ff_data():\n",
    "    with open('data/F-F_Research_Data_Factors.csv', 'r', encoding='utf8') as f:\n",
    "        lines = f.readlines()\n",
    "        lines = lines[3:1151]\n",
    "    data = io.StringIO(''.join(lines))\n",
    "    df = pd.read_csv(data)\n",
    "    df.columns = ['Date', 'Mkt-RF', 'SMB', 'HML', 'RF']\n",
    "    df['Date'] = pd.to_datetime(df['Date'], format='%Y%m')\n",
    "    df.set_index('Date', inplace=True)\n",
    "    df.sort_index(inplace=True)\n",
    "    df.index = df.index + pd.offsets.MonthEnd()\n",
    "    df = df.apply(lambda x: x / 100)\n",
    "    return df\n",
    "        \n",
    "ff_data = load_ff_data()\n",
    "print(ff_data.tail())"
   ]
  },
  {
   "cell_type": "markdown",
   "id": "82346b77",
   "metadata": {
    "pycharm": {
     "name": "#%% md\n"
    }
   },
   "source": [
    "load the prices data of symbol FCNTX for analysis"
   ]
  },
  {
   "cell_type": "code",
   "execution_count": null,
   "outputs": [],
   "source": [
    "ff_last = ff_data.index[ff_data.shape[0] - 1].date()\n",
    "price_data = utils.load_pickle('data/FCNTX_prices.pkl')\n",
    "price_data = price_data['Adj Close']\n",
    "price_data = price_data.loc[:ff_last]\n",
    "print(price_data.tail())"
   ],
   "metadata": {
    "collapsed": false,
    "pycharm": {
     "name": "#%%\n"
    }
   }
  },
  {
   "cell_type": "code",
   "execution_count": null,
   "outputs": [],
   "source": [
    "def get_return_data(price_data, period = \"M\"):\n",
    "    price = price_data.resample(period).last()\n",
    "    ret_data = price.pct_change()[1:]\n",
    "    ret_data = pd.DataFrame(ret_data)\n",
    "    ret_data.columns = ['portfolio']\n",
    "    return ret_data\n",
    "    \n",
    "ret_data = get_return_data(price_data, \"M\")\n",
    "print(ret_data.tail())"
   ],
   "metadata": {
    "collapsed": false,
    "pycharm": {
     "name": "#%%\n"
    }
   }
  },
  {
   "cell_type": "code",
   "execution_count": 10,
   "id": "7fa9290e",
   "metadata": {},
   "outputs": [
    {
     "name": "stdout",
     "output_type": "stream",
     "text": [
      "Date\n",
      "2022-02-22    15.80\n",
      "2022-02-23    15.49\n",
      "2022-02-24    15.87\n",
      "2022-02-25    16.18\n",
      "2022-02-28    16.17\n",
      "Name: Adj Close, dtype: float64\n"
     ]
    }
   ],
   "source": [
    "# Merging the data\n",
    "all_data = pd.merge(pd.DataFrame(ret_data), ff_data, how = 'inner', left_index= True, right_index= True)\n",
    "print(len(all_data))\n",
    "# Rename the columns\n",
    "all_data.rename(columns={\"Mkt-RF\":\"mkt_excess\"}, inplace=True)\n",
    "# Calculate the excess returns\n",
    "all_data['port_excess'] = all_data['portfolio'] - all_data['RF']\n",
    "print(all_data.head())\n",
    "print(all_data.tail())"
   ]
  },
  {
   "cell_type": "code",
   "execution_count": 11,
   "id": "8f43d235",
   "metadata": {},
   "outputs": [
    {
     "name": "stdout",
     "output_type": "stream",
     "text": [
      "            portfolio\n",
      "Date                 \n",
      "2021-10-31   0.069570\n",
      "2021-11-30  -0.000993\n",
      "2021-12-31   0.013778\n",
      "2022-01-31  -0.082090\n",
      "2022-02-28  -0.048706\n"
     ]
    }
   ],
   "source": [
    "def get_return_data(price_data, period = \"M\"):\n",
    "    price = price_data.resample(period).last()\n",
    "    ret_data = price.pct_change()[1:]\n",
    "    ret_data = pd.DataFrame(ret_data)\n",
    "    ret_data.columns = ['portfolio']\n",
    "    return ret_data\n",
    "    \n",
    "ret_data = get_return_data(price_data, \"M\")\n",
    "print(ret_data.tail())"
   ]
  },
  {
   "cell_type": "code",
   "execution_count": 12,
   "id": "95f28c49",
   "metadata": {},
   "outputs": [
    {
     "name": "stdout",
     "output_type": "stream",
     "text": [
      "505\n",
      "            portfolio  mkt_excess     SMB     HML      RF  port_excess\n",
      "1980-02-29  -0.022948     -0.0122 -0.0185  0.0061  0.0089    -0.031848\n",
      "1980-03-31  -0.089431     -0.1290 -0.0664 -0.0101  0.0121    -0.101531\n",
      "1980-04-30   0.017857      0.0397  0.0105  0.0108  0.0126     0.005257\n",
      "1980-05-31   0.070175      0.0526  0.0213  0.0038  0.0081     0.062075\n",
      "1980-06-30   0.040073      0.0306  0.0166 -0.0076  0.0061     0.033973\n",
      "            portfolio  mkt_excess     SMB     HML      RF  port_excess\n",
      "2021-10-31   0.069570      0.0665 -0.0228 -0.0044  0.0000     0.069570\n",
      "2021-11-30  -0.000993     -0.0155 -0.0135 -0.0053  0.0000    -0.000993\n",
      "2021-12-31   0.013778      0.0310 -0.0157  0.0323  0.0001     0.013678\n",
      "2022-01-31  -0.082090     -0.0624 -0.0587  0.1279  0.0000    -0.082090\n",
      "2022-02-28  -0.048706     -0.0229  0.0219  0.0312  0.0000    -0.048706\n"
     ]
    }
   ],
   "source": [
    "# Merging the data\n",
    "all_data = pd.merge(pd.DataFrame(ret_data), ff_data, how = 'inner', left_index= True, right_index= True)\n",
    "print(len(all_data))\n",
    "# Rename the columns\n",
    "all_data.rename(columns={\"Mkt-RF\":\"mkt_excess\"}, inplace=True)\n",
    "# Calculate the excess returns\n",
    "all_data['port_excess'] = all_data['portfolio'] - all_data['RF']\n",
    "print(all_data.head())\n",
    "print(all_data.tail())"
   ]
  },
  {
   "cell_type": "code",
   "execution_count": 13,
   "id": "0d80af08",
   "metadata": {},
   "outputs": [
    {
     "name": "stdout",
     "output_type": "stream",
     "text": [
      "Intercept     0.001305\n",
      "mkt_excess    0.885457\n",
      "SMB           0.021331\n",
      "HML          -0.121153\n",
      "dtype: float64\n"
     ]
    }
   ],
   "source": [
    "model = smf.formula.ols(formula = \"port_excess ~ mkt_excess + SMB + HML\", data=all_data).fit()\n",
    "print(model.params)"
   ]
  },
  {
   "cell_type": "code",
   "execution_count": null,
   "id": "4d10aeb4",
   "metadata": {},
   "outputs": [],
   "source": []
  }
 ],
 "metadata": {
  "kernelspec": {
   "display_name": "Python 3 (ipykernel)",
   "language": "python",
   "name": "python3"
  },
  "language_info": {
   "codemirror_mode": {
    "name": "ipython",
    "version": 3
   },
   "file_extension": ".py",
   "mimetype": "text/x-python",
   "name": "python",
   "nbconvert_exporter": "python",
   "pygments_lexer": "ipython3",
   "version": "3.9.6"
  }
 },
 "nbformat": 4,
 "nbformat_minor": 5
}