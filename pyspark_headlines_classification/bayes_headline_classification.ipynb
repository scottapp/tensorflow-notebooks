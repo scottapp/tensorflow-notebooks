{
 "cells": [
  {
   "cell_type": "markdown",
   "id": "61ac3081-82f0-42b6-b6c1-4d31a139f58c",
   "metadata": {},
   "source": [
    "# NaiveBayes Headlines Classification Using Spark"
   ]
  },
  {
   "cell_type": "markdown",
   "id": "0a749a3e-8f00-4c96-a8bf-9956c73d713a",
   "metadata": {},
   "source": [
    "**This is a simple walkthrough of classification of UCI ML News Aggregator dataset using Spark**"
   ]
  },
  {
   "cell_type": "code",
   "execution_count": 50,
   "id": "0f8c90b5-5db9-44e6-a16b-39e3da63c2bc",
   "metadata": {},
   "outputs": [],
   "source": [
    "import os\n",
    "import sys\n",
    "from pyspark.sql import SparkSession\n",
    "from pyspark.ml import Pipeline\n",
    "from pyspark.sql.functions import mean, split, col, regexp_extract, when, lit, udf, regexp_replace,isnull\n",
    "from pyspark.ml.feature import VectorAssembler\n",
    "from pyspark.ml.evaluation import MulticlassClassificationEvaluator\n",
    "from pyspark.ml.feature import QuantileDiscretizer\n",
    "\n",
    "from pyspark.ml.feature import CountVectorizer, StringIndexer, RegexTokenizer, StopWordsRemover\n",
    "from pyspark.sql.types import StringType, IntegerType\n",
    "from pyspark.ml.classification import NaiveBayes"
   ]
  },
  {
   "cell_type": "code",
   "execution_count": 15,
   "id": "d7962531-d995-47f0-83a2-7192eb477f27",
   "metadata": {},
   "outputs": [],
   "source": [
    "spark = SparkSession.builder.appName(\"pyspark-notebook\").master(\"spark://spark-master:7077\").config(\"spark.executor.memory\", \"512m\").getOrCreate()"
   ]
  },
  {
   "cell_type": "code",
   "execution_count": 16,
   "id": "a3c756ee-4640-4099-b648-e3f2843aff5b",
   "metadata": {},
   "outputs": [
    {
     "data": {
      "text/html": [
       "\n",
       "            <div>\n",
       "                <p><b>SparkSession - in-memory</b></p>\n",
       "                \n",
       "        <div>\n",
       "            <p><b>SparkContext</b></p>\n",
       "\n",
       "            <p><a href=\"http://ec78a262844f:4040\">Spark UI</a></p>\n",
       "\n",
       "            <dl>\n",
       "              <dt>Version</dt>\n",
       "                <dd><code>v3.3.0</code></dd>\n",
       "              <dt>Master</dt>\n",
       "                <dd><code>spark://spark-master:7077</code></dd>\n",
       "              <dt>AppName</dt>\n",
       "                <dd><code>pyspark-notebook</code></dd>\n",
       "            </dl>\n",
       "        </div>\n",
       "        \n",
       "            </div>\n",
       "        "
      ],
      "text/plain": [
       "<pyspark.sql.session.SparkSession at 0x7f8d09ae0400>"
      ]
     },
     "execution_count": 16,
     "metadata": {},
     "output_type": "execute_result"
    }
   ],
   "source": [
    "spark"
   ]
  },
  {
   "cell_type": "code",
   "execution_count": 17,
   "id": "28648803-7499-4c7c-bc20-3d31f39efa2e",
   "metadata": {},
   "outputs": [
    {
     "name": "stderr",
     "output_type": "stream",
     "text": [
      "                                                                                \r"
     ]
    }
   ],
   "source": [
    "data = spark.read.csv('data/uci-news-aggregator.csv', header='True', inferSchema='True')"
   ]
  },
  {
   "cell_type": "code",
   "execution_count": 18,
   "id": "36a42733-33a2-4ed4-9250-30eb2c453a79",
   "metadata": {},
   "outputs": [
    {
     "name": "stdout",
     "output_type": "stream",
     "text": [
      "+---+--------------------+--------------------+--------------------+--------+--------------------+--------------------+-------------+\n",
      "| ID|               TITLE|                 URL|           PUBLISHER|CATEGORY|               STORY|            HOSTNAME|    TIMESTAMP|\n",
      "+---+--------------------+--------------------+--------------------+--------+--------------------+--------------------+-------------+\n",
      "|  1|Fed official says...|http://www.latime...|   Los Angeles Times|       b|ddUyU0VZz0BRneMio...|     www.latimes.com|1394470370698|\n",
      "|  2|Fed's Charles Plo...|http://www.livemi...|            Livemint|       b|ddUyU0VZz0BRneMio...|    www.livemint.com|1394470371207|\n",
      "|  3|US open: Stocks f...|http://www.ifamag...|        IFA Magazine|       b|ddUyU0VZz0BRneMio...| www.ifamagazine.com|1394470371550|\n",
      "|  4|Fed risks falling...|http://www.ifamag...|        IFA Magazine|       b|ddUyU0VZz0BRneMio...| www.ifamagazine.com|1394470371793|\n",
      "|  5|Fed's Plosser: Na...|http://www.moneyn...|           Moneynews|       b|ddUyU0VZz0BRneMio...|   www.moneynews.com|1394470372027|\n",
      "|  6|Plosser: Fed May ...|http://www.nasdaq...|              NASDAQ|       b|ddUyU0VZz0BRneMio...|      www.nasdaq.com|1394470372212|\n",
      "|  7|Fed's Plosser: Ta...|http://www.market...|         MarketWatch|       b|ddUyU0VZz0BRneMio...| www.marketwatch.com|1394470372405|\n",
      "|  8|Fed's Plosser exp...|http://www.fxstre...|        FXstreet.com|       b|ddUyU0VZz0BRneMio...|    www.fxstreet.com|1394470372615|\n",
      "|  9|US jobs growth la...|http://economicti...|      Economic Times|       b|ddUyU0VZz0BRneMio...|economictimes.ind...|1394470372792|\n",
      "| 10|ECB unlikely to e...|http://www.iii.co...|Interactive Investor|       b|dPhGU51DcrolUIMxb...|       www.iii.co.uk|1394470501265|\n",
      "| 11|ECB unlikely to e...|http://in.reuters...|       Reuters India|       b|dPhGU51DcrolUIMxb...|      in.reuters.com|1394470501410|\n",
      "| 12|EU's half-baked b...|http://blogs.reut...| Reuters UK \\(blog\\)|       b|dPhGU51DcrolUIMxb...|   blogs.reuters.com|1394470501587|\n",
      "| 13|Europe reaches cr...|http://in.reuters...|             Reuters|       b|dPhGU51DcrolUIMxb...|      in.reuters.com|1394470501755|\n",
      "| 14|ECB FOCUS-Stronge...|http://in.reuters...|             Reuters|       b|dPhGU51DcrolUIMxb...|      in.reuters.com|1394470501948|\n",
      "| 15|EU aims for deal ...|http://main.omano...| Oman Daily Observer|       b|dPhGU51DcrolUIMxb...|main.omanobserver.om|1394470502141|\n",
      "| 16|Forex - Pound dro...|http://www.nasdaq...|              NASDAQ|       b|dPhGU51DcrolUIMxb...|      www.nasdaq.com|1394470502316|\n",
      "| 17|Noyer Says Strong...|http://www.sfgate...|San Francisco Chr...|       b|dPhGU51DcrolUIMxb...|      www.sfgate.com|1394470502543|\n",
      "| 18|EU Week Ahead Mar...|http://blogs.wsj....|Wall Street Journ...|       b|dPhGU51DcrolUIMxb...|       blogs.wsj.com|1394470502744|\n",
      "| 19|ECB member Noyer ...|http://www.ifamag...|        IFA Magazine|       b|dPhGU51DcrolUIMxb...| www.ifamagazine.com|1394470502946|\n",
      "| 20|Euro Anxieties Wa...|http://www.busine...|        Businessweek|       b|dPhGU51DcrolUIMxb...|www.businessweek.com|1394470503148|\n",
      "+---+--------------------+--------------------+--------------------+--------+--------------------+--------------------+-------------+\n",
      "only showing top 20 rows\n",
      "\n"
     ]
    }
   ],
   "source": [
    "data.show()"
   ]
  },
  {
   "cell_type": "code",
   "execution_count": 19,
   "id": "70535a73-1a24-4b77-b02f-ad9a27bfe69c",
   "metadata": {},
   "outputs": [
    {
     "name": "stderr",
     "output_type": "stream",
     "text": [
      "                                                                                \r"
     ]
    },
    {
     "data": {
      "text/plain": [
       "422937"
      ]
     },
     "execution_count": 19,
     "metadata": {},
     "output_type": "execute_result"
    }
   ],
   "source": [
    "data.count()"
   ]
  },
  {
   "cell_type": "code",
   "execution_count": 20,
   "id": "f510c680-6aa9-48ae-9bbb-29a15dab1572",
   "metadata": {},
   "outputs": [],
   "source": [
    "title_category = data.select(\"TITLE\",\"CATEGORY\")"
   ]
  },
  {
   "cell_type": "code",
   "execution_count": 21,
   "id": "960bfa99-4b95-4eb0-8bfa-487a9e6ee715",
   "metadata": {},
   "outputs": [
    {
     "name": "stdout",
     "output_type": "stream",
     "text": [
      "+--------------------+--------+\n",
      "|               TITLE|CATEGORY|\n",
      "+--------------------+--------+\n",
      "|Fed official says...|       b|\n",
      "|Fed's Charles Plo...|       b|\n",
      "|US open: Stocks f...|       b|\n",
      "|Fed risks falling...|       b|\n",
      "|Fed's Plosser: Na...|       b|\n",
      "|Plosser: Fed May ...|       b|\n",
      "|Fed's Plosser: Ta...|       b|\n",
      "|Fed's Plosser exp...|       b|\n",
      "|US jobs growth la...|       b|\n",
      "|ECB unlikely to e...|       b|\n",
      "|ECB unlikely to e...|       b|\n",
      "|EU's half-baked b...|       b|\n",
      "|Europe reaches cr...|       b|\n",
      "|ECB FOCUS-Stronge...|       b|\n",
      "|EU aims for deal ...|       b|\n",
      "|Forex - Pound dro...|       b|\n",
      "|Noyer Says Strong...|       b|\n",
      "|EU Week Ahead Mar...|       b|\n",
      "|ECB member Noyer ...|       b|\n",
      "|Euro Anxieties Wa...|       b|\n",
      "+--------------------+--------+\n",
      "only showing top 20 rows\n",
      "\n"
     ]
    }
   ],
   "source": [
    "title_category.show()"
   ]
  },
  {
   "cell_type": "code",
   "execution_count": 22,
   "id": "dea93d3b-ffbc-48f6-9abe-a823feb41835",
   "metadata": {},
   "outputs": [],
   "source": [
    "def null_value_count(df):\n",
    "  null_columns_counts = []\n",
    "  numRows = df.count()\n",
    "  for k in df.columns:\n",
    "    nullRows = df.where(col(k).isNull()).count()\n",
    "    if(nullRows > 0):\n",
    "      temp = k,nullRows\n",
    "      null_columns_counts.append(temp)\n",
    "  return(null_columns_counts)"
   ]
  },
  {
   "cell_type": "code",
   "execution_count": 23,
   "id": "11b17290-cd82-4934-9573-aa9d365a6b71",
   "metadata": {},
   "outputs": [
    {
     "name": "stderr",
     "output_type": "stream",
     "text": [
      "                                                                                \r"
     ]
    }
   ],
   "source": [
    "null_columns_count_list = null_value_count(title_category)"
   ]
  },
  {
   "cell_type": "code",
   "execution_count": 26,
   "id": "dff04843-856f-4a24-9d7e-1e100518e426",
   "metadata": {},
   "outputs": [
    {
     "data": {
      "text/plain": [
       "[('TITLE', 389), ('CATEGORY', 516)]"
      ]
     },
     "execution_count": 26,
     "metadata": {},
     "output_type": "execute_result"
    }
   ],
   "source": [
    "null_columns_count_list"
   ]
  },
  {
   "cell_type": "code",
   "execution_count": 24,
   "id": "481bebb2-6dde-4feb-969b-52e6fdb41ecd",
   "metadata": {},
   "outputs": [],
   "source": [
    "df = spark.createDataFrame(null_columns_count_list, ['Column_With_Null_Value', 'Null_Values_Count'])"
   ]
  },
  {
   "cell_type": "code",
   "execution_count": 25,
   "id": "6734227b-e938-4b97-9bdb-5bbe4dd7f53b",
   "metadata": {},
   "outputs": [
    {
     "name": "stderr",
     "output_type": "stream",
     "text": [
      "[Stage 16:>                                                         (0 + 1) / 1]\r"
     ]
    },
    {
     "name": "stdout",
     "output_type": "stream",
     "text": [
      "+----------------------+-----------------+\n",
      "|Column_With_Null_Value|Null_Values_Count|\n",
      "+----------------------+-----------------+\n",
      "|                 TITLE|              389|\n",
      "|              CATEGORY|              516|\n",
      "+----------------------+-----------------+\n",
      "\n"
     ]
    },
    {
     "name": "stderr",
     "output_type": "stream",
     "text": [
      "                                                                                \r"
     ]
    }
   ],
   "source": [
    "df.show()"
   ]
  },
  {
   "cell_type": "code",
   "execution_count": 27,
   "id": "7bb9c122-db84-4f85-9cb9-071c5f78498f",
   "metadata": {},
   "outputs": [],
   "source": [
    "title_category = title_category.dropna()"
   ]
  },
  {
   "cell_type": "code",
   "execution_count": 28,
   "id": "4f6b36f1-2896-4a2a-8aaf-120eaf205aeb",
   "metadata": {},
   "outputs": [
    {
     "name": "stderr",
     "output_type": "stream",
     "text": [
      "                                                                                \r"
     ]
    },
    {
     "data": {
      "text/plain": [
       "422421"
      ]
     },
     "execution_count": 28,
     "metadata": {},
     "output_type": "execute_result"
    }
   ],
   "source": [
    "title_category.count()"
   ]
  },
  {
   "cell_type": "code",
   "execution_count": 29,
   "id": "b114d444-6710-437b-8714-50049c8d01ca",
   "metadata": {},
   "outputs": [
    {
     "name": "stdout",
     "output_type": "stream",
     "text": [
      "+---------------------------------------------------------------------------+--------+\n",
      "|TITLE                                                                      |CATEGORY|\n",
      "+---------------------------------------------------------------------------+--------+\n",
      "|Fed official says weak data caused by weather, should not slow taper       |b       |\n",
      "|Fed's Charles Plosser sees high bar for change in pace of tapering         |b       |\n",
      "|US open: Stocks fall after Fed official hints at accelerated tapering      |b       |\n",
      "|Fed risks falling 'behind the curve', Charles Plosser says                 |b       |\n",
      "|Fed's Plosser: Nasty Weather Has Curbed Job Growth                         |b       |\n",
      "|Plosser: Fed May Have to Accelerate Tapering Pace                          |b       |\n",
      "|Fed's Plosser: Taper pace may be too slow                                  |b       |\n",
      "|Fed's Plosser expects US unemployment to fall to 6.2% by the end of 2014   |b       |\n",
      "|US jobs growth last month hit by weather:Fed President Charles Plosser     |b       |\n",
      "|ECB unlikely to end sterilisation of SMP purchases - traders               |b       |\n",
      "|ECB unlikely to end sterilization of SMP purchases: traders                |b       |\n",
      "|EU's half-baked bank union could work                                      |b       |\n",
      "|Europe reaches crunch point on banking union                               |b       |\n",
      "|ECB FOCUS-Stronger euro drowns out ECB's message to keep rates low for  ...|b       |\n",
      "|EU aims for deal on tackling failing banks                                 |b       |\n",
      "|Forex - Pound drops to one-month lows against euro                         |b       |\n",
      "|Noyer Says Strong Euro Creates Unwarranted Economic Pressure               |b       |\n",
      "|EU Week Ahead March 10-14: Bank Resolution, Transparency, Ukraine          |b       |\n",
      "|ECB member Noyer is 'very open to all kinds of tools'                      |b       |\n",
      "|Euro Anxieties Wane as Bunds Top Treasuries, Spain Debt Rallies            |b       |\n",
      "+---------------------------------------------------------------------------+--------+\n",
      "only showing top 20 rows\n",
      "\n"
     ]
    }
   ],
   "source": [
    "title_category.show(truncate=False)"
   ]
  },
  {
   "cell_type": "code",
   "execution_count": 30,
   "id": "771772da-f301-4cac-97c9-f7d7fce4410e",
   "metadata": {},
   "outputs": [
    {
     "name": "stderr",
     "output_type": "stream",
     "text": [
      "                                                                                \r"
     ]
    },
    {
     "data": {
      "text/plain": [
       "265"
      ]
     },
     "execution_count": 30,
     "metadata": {},
     "output_type": "execute_result"
    }
   ],
   "source": [
    "title_category.select(\"Category\").distinct().count()"
   ]
  },
  {
   "cell_type": "code",
   "execution_count": 31,
   "id": "d7b7b9ff-bb55-4314-a0e5-916f98e0f501",
   "metadata": {},
   "outputs": [
    {
     "name": "stderr",
     "output_type": "stream",
     "text": [
      "[Stage 28:=============================>                            (1 + 1) / 2]\r"
     ]
    },
    {
     "name": "stdout",
     "output_type": "stream",
     "text": [
      "+--------------------+------+\n",
      "|Category            |count |\n",
      "+--------------------+------+\n",
      "|e                   |152127|\n",
      "|b                   |115935|\n",
      "|t                   |108237|\n",
      "|m                   |45616 |\n",
      "|Us Magazine         |31    |\n",
      "|GossipCop           |20    |\n",
      "|Contactmusic.com    |20    |\n",
      "|Complex.com         |12    |\n",
      "|CBS News            |12    |\n",
      "|The Hollywood Gossip|11    |\n",
      "|HipHopDX            |11    |\n",
      "|We Got This Covered |10    |\n",
      "|HeadlinePlanet.com  |10    |\n",
      "|Gamepur             |8     |\n",
      "|TooFab.com          |7     |\n",
      "|Wetpaint            |7     |\n",
      "|WorstPreviews.com   |7     |\n",
      "|Consequence of Sound|7     |\n",
      "|The Escapist        |6     |\n",
      "|Reality TV World    |5     |\n",
      "+--------------------+------+\n",
      "only showing top 20 rows\n",
      "\n"
     ]
    },
    {
     "name": "stderr",
     "output_type": "stream",
     "text": [
      "                                                                                \r"
     ]
    }
   ],
   "source": [
    "title_category.groupBy(\"Category\").count().orderBy(col(\"count\").desc()).show(truncate=False)"
   ]
  },
  {
   "cell_type": "code",
   "execution_count": 32,
   "id": "ee288781-a7e5-45c8-93fd-c553faa42f4b",
   "metadata": {},
   "outputs": [
    {
     "name": "stderr",
     "output_type": "stream",
     "text": [
      "[Stage 33:=============================>                            (1 + 1) / 2]\r"
     ]
    },
    {
     "name": "stdout",
     "output_type": "stream",
     "text": [
      "+----------------------------------------------------------------------------------+-----+\n",
      "|TITLE                                                                             |count|\n",
      "+----------------------------------------------------------------------------------+-----+\n",
      "|The article requested cannot be found! Please refresh your browser or go back  ...|145  |\n",
      "|Business Highlights                                                               |59   |\n",
      "|Posted by Parvez Jabri                                                            |59   |\n",
      "|Posted by Imaduddin                                                               |53   |\n",
      "|Posted by Shoaib-ur-Rehman Siddiqui                                               |52   |\n",
      "|(click the phrases to see a list)                                                 |51   |\n",
      "|Business Wire                                                                     |41   |\n",
      "|PR Newswire                                                                       |38   |\n",
      "|Posted by Muhammad Iqbal                                                          |35   |\n",
      "|Change text size for the story                                                    |34   |\n",
      "|Get the Most Popular Beauty World News Stories in a Weekly Newsletter             |34   |\n",
      "|International markets roundup                                                     |33   |\n",
      "|Business briefs                                                                   |33   |\n",
      "|India Morning Call-Global Markets                                                 |27   |\n",
      "|10 Things to Know for Today                                                       |22   |\n",
      "|Breaking news                                                                     |21   |\n",
      "|Perez Recommends                                                                  |19   |\n",
      "|From ColumbusAlive.com                                                            |18   |\n",
      "|Texas Weekly Gas Price Update and Outlook                                         |18   |\n",
      "|The Daily Dish                                                                    |17   |\n",
      "+----------------------------------------------------------------------------------+-----+\n",
      "only showing top 20 rows\n",
      "\n"
     ]
    },
    {
     "name": "stderr",
     "output_type": "stream",
     "text": [
      "                                                                                \r"
     ]
    }
   ],
   "source": [
    "title_category.groupBy(\"TITLE\").count().orderBy(col(\"count\").desc()).show(truncate=False)"
   ]
  },
  {
   "cell_type": "code",
   "execution_count": 36,
   "id": "2d10b36b-fbd4-416f-947a-a0379bc4ef6b",
   "metadata": {},
   "outputs": [],
   "source": [
    "title_category = title_category.withColumn(\"only_str\", regexp_replace(col('TITLE'), '\\d+', ''))"
   ]
  },
  {
   "cell_type": "code",
   "execution_count": 37,
   "id": "687853e4-a681-46ee-a835-d312cb4214f4",
   "metadata": {},
   "outputs": [
    {
     "name": "stdout",
     "output_type": "stream",
     "text": [
      "+---------------------------------------------------------------------------+---------------------------------------------------------------------------+\n",
      "|TITLE                                                                      |only_str                                                                   |\n",
      "+---------------------------------------------------------------------------+---------------------------------------------------------------------------+\n",
      "|Fed official says weak data caused by weather, should not slow taper       |Fed official says weak data caused by weather, should not slow taper       |\n",
      "|Fed's Charles Plosser sees high bar for change in pace of tapering         |Fed's Charles Plosser sees high bar for change in pace of tapering         |\n",
      "|US open: Stocks fall after Fed official hints at accelerated tapering      |US open: Stocks fall after Fed official hints at accelerated tapering      |\n",
      "|Fed risks falling 'behind the curve', Charles Plosser says                 |Fed risks falling 'behind the curve', Charles Plosser says                 |\n",
      "|Fed's Plosser: Nasty Weather Has Curbed Job Growth                         |Fed's Plosser: Nasty Weather Has Curbed Job Growth                         |\n",
      "|Plosser: Fed May Have to Accelerate Tapering Pace                          |Plosser: Fed May Have to Accelerate Tapering Pace                          |\n",
      "|Fed's Plosser: Taper pace may be too slow                                  |Fed's Plosser: Taper pace may be too slow                                  |\n",
      "|Fed's Plosser expects US unemployment to fall to 6.2% by the end of 2014   |Fed's Plosser expects US unemployment to fall to .% by the end of          |\n",
      "|US jobs growth last month hit by weather:Fed President Charles Plosser     |US jobs growth last month hit by weather:Fed President Charles Plosser     |\n",
      "|ECB unlikely to end sterilisation of SMP purchases - traders               |ECB unlikely to end sterilisation of SMP purchases - traders               |\n",
      "|ECB unlikely to end sterilization of SMP purchases: traders                |ECB unlikely to end sterilization of SMP purchases: traders                |\n",
      "|EU's half-baked bank union could work                                      |EU's half-baked bank union could work                                      |\n",
      "|Europe reaches crunch point on banking union                               |Europe reaches crunch point on banking union                               |\n",
      "|ECB FOCUS-Stronger euro drowns out ECB's message to keep rates low for  ...|ECB FOCUS-Stronger euro drowns out ECB's message to keep rates low for  ...|\n",
      "|EU aims for deal on tackling failing banks                                 |EU aims for deal on tackling failing banks                                 |\n",
      "|Forex - Pound drops to one-month lows against euro                         |Forex - Pound drops to one-month lows against euro                         |\n",
      "|Noyer Says Strong Euro Creates Unwarranted Economic Pressure               |Noyer Says Strong Euro Creates Unwarranted Economic Pressure               |\n",
      "|EU Week Ahead March 10-14: Bank Resolution, Transparency, Ukraine          |EU Week Ahead March -: Bank Resolution, Transparency, Ukraine              |\n",
      "|ECB member Noyer is 'very open to all kinds of tools'                      |ECB member Noyer is 'very open to all kinds of tools'                      |\n",
      "|Euro Anxieties Wane as Bunds Top Treasuries, Spain Debt Rallies            |Euro Anxieties Wane as Bunds Top Treasuries, Spain Debt Rallies            |\n",
      "+---------------------------------------------------------------------------+---------------------------------------------------------------------------+\n",
      "only showing top 20 rows\n",
      "\n"
     ]
    }
   ],
   "source": [
    "title_category.select(\"TITLE\",\"only_str\").show(truncate=False)"
   ]
  },
  {
   "cell_type": "code",
   "execution_count": 38,
   "id": "be264146-38c2-4d30-b065-f6676df37401",
   "metadata": {},
   "outputs": [],
   "source": [
    "regex_tokenizer = RegexTokenizer(inputCol=\"only_str\", outputCol=\"words\", pattern=\"\\\\W\")\n",
    "raw_words = regex_tokenizer.transform(title_category)"
   ]
  },
  {
   "cell_type": "code",
   "execution_count": 39,
   "id": "9b31dfee-c8d9-45a8-af2f-28ad178bfb3b",
   "metadata": {},
   "outputs": [
    {
     "name": "stdout",
     "output_type": "stream",
     "text": [
      "+--------------------+--------+--------------------+--------------------+\n",
      "|               TITLE|CATEGORY|            only_str|               words|\n",
      "+--------------------+--------+--------------------+--------------------+\n",
      "|Fed official says...|       b|Fed official says...|[fed, official, s...|\n",
      "|Fed's Charles Plo...|       b|Fed's Charles Plo...|[fed, s, charles,...|\n",
      "|US open: Stocks f...|       b|US open: Stocks f...|[us, open, stocks...|\n",
      "|Fed risks falling...|       b|Fed risks falling...|[fed, risks, fall...|\n",
      "|Fed's Plosser: Na...|       b|Fed's Plosser: Na...|[fed, s, plosser,...|\n",
      "|Plosser: Fed May ...|       b|Plosser: Fed May ...|[plosser, fed, ma...|\n",
      "|Fed's Plosser: Ta...|       b|Fed's Plosser: Ta...|[fed, s, plosser,...|\n",
      "|Fed's Plosser exp...|       b|Fed's Plosser exp...|[fed, s, plosser,...|\n",
      "|US jobs growth la...|       b|US jobs growth la...|[us, jobs, growth...|\n",
      "|ECB unlikely to e...|       b|ECB unlikely to e...|[ecb, unlikely, t...|\n",
      "|ECB unlikely to e...|       b|ECB unlikely to e...|[ecb, unlikely, t...|\n",
      "|EU's half-baked b...|       b|EU's half-baked b...|[eu, s, half, bak...|\n",
      "|Europe reaches cr...|       b|Europe reaches cr...|[europe, reaches,...|\n",
      "|ECB FOCUS-Stronge...|       b|ECB FOCUS-Stronge...|[ecb, focus, stro...|\n",
      "|EU aims for deal ...|       b|EU aims for deal ...|[eu, aims, for, d...|\n",
      "|Forex - Pound dro...|       b|Forex - Pound dro...|[forex, pound, dr...|\n",
      "|Noyer Says Strong...|       b|Noyer Says Strong...|[noyer, says, str...|\n",
      "|EU Week Ahead Mar...|       b|EU Week Ahead Mar...|[eu, week, ahead,...|\n",
      "|ECB member Noyer ...|       b|ECB member Noyer ...|[ecb, member, noy...|\n",
      "|Euro Anxieties Wa...|       b|Euro Anxieties Wa...|[euro, anxieties,...|\n",
      "+--------------------+--------+--------------------+--------------------+\n",
      "only showing top 20 rows\n",
      "\n"
     ]
    }
   ],
   "source": [
    "raw_words.show()"
   ]
  },
  {
   "cell_type": "code",
   "execution_count": 40,
   "id": "ce462254-1dd3-42da-8b72-1434a37ea0b0",
   "metadata": {},
   "outputs": [],
   "source": [
    "remover = StopWordsRemover(inputCol=\"words\", outputCol=\"filtered\")\n",
    "words_df = remover.transform(raw_words)"
   ]
  },
  {
   "cell_type": "code",
   "execution_count": 41,
   "id": "71b5ab74-f306-4e9c-bf17-06d6a8291e02",
   "metadata": {},
   "outputs": [
    {
     "name": "stdout",
     "output_type": "stream",
     "text": [
      "+--------------------+--------------------+\n",
      "|               words|            filtered|\n",
      "+--------------------+--------------------+\n",
      "|[fed, official, s...|[fed, official, s...|\n",
      "|[fed, s, charles,...|[fed, charles, pl...|\n",
      "|[us, open, stocks...|[us, open, stocks...|\n",
      "|[fed, risks, fall...|[fed, risks, fall...|\n",
      "|[fed, s, plosser,...|[fed, plosser, na...|\n",
      "|[plosser, fed, ma...|[plosser, fed, ma...|\n",
      "|[fed, s, plosser,...|[fed, plosser, ta...|\n",
      "|[fed, s, plosser,...|[fed, plosser, ex...|\n",
      "|[us, jobs, growth...|[us, jobs, growth...|\n",
      "|[ecb, unlikely, t...|[ecb, unlikely, e...|\n",
      "|[ecb, unlikely, t...|[ecb, unlikely, e...|\n",
      "|[eu, s, half, bak...|[eu, half, baked,...|\n",
      "|[europe, reaches,...|[europe, reaches,...|\n",
      "|[ecb, focus, stro...|[ecb, focus, stro...|\n",
      "|[eu, aims, for, d...|[eu, aims, deal, ...|\n",
      "|[forex, pound, dr...|[forex, pound, dr...|\n",
      "|[noyer, says, str...|[noyer, says, str...|\n",
      "|[eu, week, ahead,...|[eu, week, ahead,...|\n",
      "|[ecb, member, noy...|[ecb, member, noy...|\n",
      "|[euro, anxieties,...|[euro, anxieties,...|\n",
      "+--------------------+--------------------+\n",
      "only showing top 20 rows\n",
      "\n"
     ]
    }
   ],
   "source": [
    "words_df.select(\"words\",\"filtered\").show()"
   ]
  },
  {
   "cell_type": "code",
   "execution_count": 42,
   "id": "84aa2c0a-23c7-4bfa-a0e5-803d99ab2a1f",
   "metadata": {},
   "outputs": [
    {
     "name": "stderr",
     "output_type": "stream",
     "text": [
      "                                                                                \r"
     ]
    }
   ],
   "source": [
    "indexer = StringIndexer(inputCol=\"CATEGORY\", outputCol=\"categoryIndex\")\n",
    "feature_data = indexer.fit(words_df).transform(words_df)"
   ]
  },
  {
   "cell_type": "code",
   "execution_count": 43,
   "id": "34c8da0a-750b-4e8b-aab5-5572e25c90f1",
   "metadata": {},
   "outputs": [
    {
     "name": "stdout",
     "output_type": "stream",
     "text": [
      "+--------+-------------+\n",
      "|CATEGORY|categoryIndex|\n",
      "+--------+-------------+\n",
      "|       b|          1.0|\n",
      "|       b|          1.0|\n",
      "|       b|          1.0|\n",
      "|       b|          1.0|\n",
      "|       b|          1.0|\n",
      "|       b|          1.0|\n",
      "|       b|          1.0|\n",
      "|       b|          1.0|\n",
      "|       b|          1.0|\n",
      "|       b|          1.0|\n",
      "|       b|          1.0|\n",
      "|       b|          1.0|\n",
      "|       b|          1.0|\n",
      "|       b|          1.0|\n",
      "|       b|          1.0|\n",
      "|       b|          1.0|\n",
      "|       b|          1.0|\n",
      "|       b|          1.0|\n",
      "|       b|          1.0|\n",
      "|       b|          1.0|\n",
      "+--------+-------------+\n",
      "only showing top 20 rows\n",
      "\n"
     ]
    }
   ],
   "source": [
    "feature_data.select(\"CATEGORY\",\"categoryIndex\").show()"
   ]
  },
  {
   "cell_type": "code",
   "execution_count": 44,
   "id": "b0e0364f-6e17-4c4f-92be-3100a5ec4e72",
   "metadata": {},
   "outputs": [
    {
     "name": "stderr",
     "output_type": "stream",
     "text": [
      "                                                                                \r"
     ]
    }
   ],
   "source": [
    "cv = CountVectorizer(inputCol=\"filtered\", outputCol=\"features\")\n",
    "model = cv.fit(feature_data)\n",
    "countVectorizer_feateures = model.transform(feature_data)"
   ]
  },
  {
   "cell_type": "code",
   "execution_count": 45,
   "id": "ee5d1129-8073-4d78-9c04-2c4131587802",
   "metadata": {},
   "outputs": [
    {
     "name": "stderr",
     "output_type": "stream",
     "text": [
      "                                                                                \r"
     ]
    },
    {
     "name": "stdout",
     "output_type": "stream",
     "text": [
      "+--------------------+--------+--------------------+--------------------+--------------------+-------------+--------------------+\n",
      "|               TITLE|CATEGORY|            only_str|               words|            filtered|categoryIndex|            features|\n",
      "+--------------------+--------+--------------------+--------------------+--------------------+-------------+--------------------+\n",
      "|Fed official says...|       b|Fed official says...|[fed, official, s...|[fed, official, s...|          1.0|(49043,[5,42,112,...|\n",
      "|Fed's Charles Plo...|       b|Fed's Charles Plo...|[fed, s, charles,...|[fed, charles, pl...|          1.0|(49043,[58,84,112...|\n",
      "|US open: Stocks f...|       b|US open: Stocks f...|[us, open, stocks...|[us, open, stocks...|          1.0|(49043,[1,27,112,...|\n",
      "|Fed risks falling...|       b|Fed risks falling...|[fed, risks, fall...|[fed, risks, fall...|          1.0|(49043,[5,112,578...|\n",
      "|Fed's Plosser: Na...|       b|Fed's Plosser: Na...|[fed, s, plosser,...|[fed, plosser, na...|          1.0|(49043,[112,121,5...|\n",
      "|Plosser: Fed May ...|       b|Plosser: Fed May ...|[plosser, fed, ma...|[plosser, fed, ma...|          1.0|(49043,[8,112,223...|\n",
      "|Fed's Plosser: Ta...|       b|Fed's Plosser: Ta...|[fed, s, plosser,...|[fed, plosser, ta...|          1.0|(49043,[8,112,123...|\n",
      "|Fed's Plosser exp...|       b|Fed's Plosser exp...|[fed, s, plosser,...|[fed, plosser, ex...|          1.0|(49043,[1,112,135...|\n",
      "|US jobs growth la...|       b|US jobs growth la...|[us, jobs, growth...|[us, jobs, growth...|          1.0|(49043,[1,112,121...|\n",
      "|ECB unlikely to e...|       b|ECB unlikely to e...|[ecb, unlikely, t...|[ecb, unlikely, e...|          1.0|(49043,[135,200,2...|\n",
      "|ECB unlikely to e...|       b|ECB unlikely to e...|[ecb, unlikely, t...|[ecb, unlikely, e...|          1.0|(49043,[135,200,2...|\n",
      "|EU's half-baked b...|       b|EU's half-baked b...|[eu, s, half, bak...|[eu, half, baked,...|          1.0|(49043,[78,535,60...|\n",
      "|Europe reaches cr...|       b|Europe reaches cr...|[europe, reaches,...|[europe, reaches,...|          1.0|(49043,[405,940,1...|\n",
      "|ECB FOCUS-Stronge...|       b|ECB FOCUS-Stronge...|[ecb, focus, stro...|[ecb, focus, stro...|          1.0|(49043,[133,171,1...|\n",
      "|EU aims for deal ...|       b|EU aims for deal ...|[eu, aims, for, d...|[eu, aims, deal, ...|          1.0|(49043,[29,593,64...|\n",
      "|Forex - Pound dro...|       b|Forex - Pound dro...|[forex, pound, dr...|[forex, pound, dr...|          1.0|(49043,[10,171,17...|\n",
      "|Noyer Says Strong...|       b|Noyer Says Strong...|[noyer, says, str...|[noyer, says, str...|          1.0|(49043,[5,171,438...|\n",
      "|EU Week Ahead Mar...|       b|EU Week Ahead Mar...|[eu, week, ahead,...|[eu, week, ahead,...|          1.0|(49043,[56,78,168...|\n",
      "|ECB member Noyer ...|       b|ECB member Noyer ...|[ecb, member, noy...|[ecb, member, noy...|          1.0|(49043,[200,240,3...|\n",
      "|Euro Anxieties Wa...|       b|Euro Anxieties Wa...|[euro, anxieties,...|[euro, anxieties,...|          1.0|(49043,[47,171,10...|\n",
      "+--------------------+--------+--------------------+--------------------+--------------------+-------------+--------------------+\n",
      "only showing top 20 rows\n",
      "\n"
     ]
    }
   ],
   "source": [
    "countVectorizer_feateures.show()"
   ]
  },
  {
   "cell_type": "code",
   "execution_count": 46,
   "id": "5871a8d0-d2a2-4b0d-a0e0-bfac530bd2a1",
   "metadata": {},
   "outputs": [],
   "source": [
    "(trainingData, testData) = countVectorizer_feateures.randomSplit([0.8, 0.2],seed = 11)"
   ]
  },
  {
   "cell_type": "code",
   "execution_count": 47,
   "id": "c1e6a7fe-b049-4974-ba96-2ab8b8baafd2",
   "metadata": {},
   "outputs": [
    {
     "name": "stderr",
     "output_type": "stream",
     "text": [
      "                                                                                \r"
     ]
    }
   ],
   "source": [
    "nb = NaiveBayes(modelType=\"multinomial\",labelCol=\"categoryIndex\", featuresCol=\"features\")\n",
    "nbModel = nb.fit(trainingData)\n",
    "nb_predictions = nbModel.transform(testData)"
   ]
  },
  {
   "cell_type": "code",
   "execution_count": 48,
   "id": "f0c1544f-2a59-400b-b762-3df9810a8d7b",
   "metadata": {},
   "outputs": [
    {
     "name": "stdout",
     "output_type": "stream",
     "text": [
      "22/07/22 09:04:25 WARN DAGScheduler: Broadcasting large task binary with size 86.6 MiB\n"
     ]
    },
    {
     "name": "stderr",
     "output_type": "stream",
     "text": [
      "[Stage 49:>                                                         (0 + 1) / 1]\r"
     ]
    },
    {
     "name": "stdout",
     "output_type": "stream",
     "text": [
      "+----------+-------------+--------------------+\n",
      "|prediction|categoryIndex|            features|\n",
      "+----------+-------------+--------------------+\n",
      "|       1.0|          0.0|(49043,[15,22,26,...|\n",
      "|       0.0|         20.0|(49043,[74,113,39...|\n",
      "|       0.0|          0.0|(49043,[21,50,51,...|\n",
      "|       0.0|          0.0|(49043,[21,50,62,...|\n",
      "|       0.0|          0.0|(49043,[6,21,22,5...|\n",
      "+----------+-------------+--------------------+\n",
      "only showing top 5 rows\n",
      "\n"
     ]
    },
    {
     "name": "stderr",
     "output_type": "stream",
     "text": [
      "                                                                                \r"
     ]
    }
   ],
   "source": [
    "nb_predictions.select(\"prediction\", \"categoryIndex\", \"features\").show(5)"
   ]
  },
  {
   "cell_type": "code",
   "execution_count": 49,
   "id": "0d0a3f5b-63f8-4067-9679-8714b09885f8",
   "metadata": {},
   "outputs": [
    {
     "name": "stdout",
     "output_type": "stream",
     "text": [
      "22/07/22 09:04:49 WARN DAGScheduler: Broadcasting large task binary with size 86.7 MiB\n"
     ]
    },
    {
     "name": "stderr",
     "output_type": "stream",
     "text": [
      "[Stage 50:=============================>                            (1 + 1) / 2]\r"
     ]
    },
    {
     "name": "stdout",
     "output_type": "stream",
     "text": [
      "Accuracy of NaiveBayes is = 0.926257\n",
      "Test Error of NaiveBayes = 0.0737432 \n"
     ]
    },
    {
     "name": "stderr",
     "output_type": "stream",
     "text": [
      "                                                                                \r"
     ]
    }
   ],
   "source": [
    "evaluator = MulticlassClassificationEvaluator(labelCol=\"categoryIndex\", predictionCol=\"prediction\", metricName=\"accuracy\")\n",
    "nb_accuracy = evaluator.evaluate(nb_predictions)\n",
    "print(\"Accuracy of NaiveBayes is = %g\"% (nb_accuracy))\n",
    "print(\"Test Error of NaiveBayes = %g \" % (1.0 - nb_accuracy))"
   ]
  },
  {
   "cell_type": "code",
   "execution_count": null,
   "id": "c69ac2f9-7c04-4935-9f29-8ccf4a8d25ad",
   "metadata": {},
   "outputs": [],
   "source": []
  }
 ],
 "metadata": {
  "kernelspec": {
   "display_name": "Python 3 (ipykernel)",
   "language": "python",
   "name": "python3"
  },
  "language_info": {
   "codemirror_mode": {
    "name": "ipython",
    "version": 3
   },
   "file_extension": ".py",
   "mimetype": "text/x-python",
   "name": "python",
   "nbconvert_exporter": "python",
   "pygments_lexer": "ipython3",
   "version": "3.9.13"
  }
 },
 "nbformat": 4,
 "nbformat_minor": 5
}
